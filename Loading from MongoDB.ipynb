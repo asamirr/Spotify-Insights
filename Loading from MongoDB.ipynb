{
 "cells": [
  {
   "cell_type": "code",
   "execution_count": 2,
   "id": "3cd3e778",
   "metadata": {},
   "outputs": [
    {
     "data": {
      "text/plain": [
       "['admin', 'config', 'local', 'raw_spotify', 'raw_spotify_test']"
      ]
     },
     "execution_count": 2,
     "metadata": {},
     "output_type": "execute_result"
    }
   ],
   "source": [
    "from pymongo import MongoClient\n",
    "import pandas as pd\n",
    "from bson.json_util import dumps\n",
    "from bson.json_util import loads\n",
    "import json\n",
    "\n",
    "client = MongoClient('mongodb://localhost:27017/')\n",
    "client.list_database_names()\n"
   ]
  },
  {
   "cell_type": "code",
   "execution_count": 39,
   "id": "7b523473",
   "metadata": {},
   "outputs": [],
   "source": [
    "# %%time\n",
    "db = client['raw_spotify']\n",
    "\n",
    "aug_coll = db[\"raw_30-08-2021\"]\n",
    "\n",
    "cursor = list(aug_coll.find({'items' : { \"$exists\": True}}))"
   ]
  },
  {
   "cell_type": "code",
   "execution_count": 46,
   "id": "bf7e5dd6",
   "metadata": {},
   "outputs": [
    {
     "data": {
      "text/html": [
       "<div>\n",
       "<style scoped>\n",
       "    .dataframe tbody tr th:only-of-type {\n",
       "        vertical-align: middle;\n",
       "    }\n",
       "\n",
       "    .dataframe tbody tr th {\n",
       "        vertical-align: top;\n",
       "    }\n",
       "\n",
       "    .dataframe thead th {\n",
       "        text-align: right;\n",
       "    }\n",
       "</style>\n",
       "<table border=\"1\" class=\"dataframe\">\n",
       "  <thead>\n",
       "    <tr style=\"text-align: right;\">\n",
       "      <th></th>\n",
       "      <th>items</th>\n",
       "    </tr>\n",
       "  </thead>\n",
       "  <tbody>\n",
       "    <tr>\n",
       "      <th>0</th>\n",
       "      <td>{'track': {'album': {'album_type': 'compilatio...</td>\n",
       "    </tr>\n",
       "    <tr>\n",
       "      <th>1</th>\n",
       "      <td>{'track': {'album': {'album_type': 'album', 'a...</td>\n",
       "    </tr>\n",
       "    <tr>\n",
       "      <th>2</th>\n",
       "      <td>{'track': {'album': {'album_type': 'album', 'a...</td>\n",
       "    </tr>\n",
       "    <tr>\n",
       "      <th>3</th>\n",
       "      <td>{'track': {'album': {'album_type': 'album', 'a...</td>\n",
       "    </tr>\n",
       "    <tr>\n",
       "      <th>4</th>\n",
       "      <td>{'track': {'album': {'album_type': 'album', 'a...</td>\n",
       "    </tr>\n",
       "  </tbody>\n",
       "</table>\n",
       "</div>"
      ],
      "text/plain": [
       "                                               items\n",
       "0  {'track': {'album': {'album_type': 'compilatio...\n",
       "1  {'track': {'album': {'album_type': 'album', 'a...\n",
       "2  {'track': {'album': {'album_type': 'album', 'a...\n",
       "3  {'track': {'album': {'album_type': 'album', 'a...\n",
       "4  {'track': {'album': {'album_type': 'album', 'a..."
      ]
     },
     "execution_count": 46,
     "metadata": {},
     "output_type": "execute_result"
    }
   ],
   "source": [
    "df = pd.DataFrame(cursor)\n",
    "\n",
    "df= df.drop(['_id', 'next', 'cursors', 'limit', 'href'], axis=1)\n",
    "df = df.explode('items', ignore_index=True).head(5)\n",
    "\n",
    "df"
   ]
  },
  {
   "cell_type": "code",
   "execution_count": 47,
   "id": "d92f0f32",
   "metadata": {},
   "outputs": [],
   "source": [
    "song_names = []\n",
    "artist_names = []\n",
    "played_at_list = []\n",
    "timestamps = []\n",
    "\n",
    "for record in df['items']:\n",
    "    song_names.append(record[\"track\"][\"name\"])\n",
    "    artist_names.append(record[\"track\"][\"album\"][\"artists\"][0][\"name\"])\n",
    "    played_at_list.append(record[\"played_at\"])\n",
    "    timestamps.append(record[\"played_at\"][0:10])\n",
    "    "
   ]
  },
  {
   "cell_type": "code",
   "execution_count": 48,
   "id": "a18668c0",
   "metadata": {},
   "outputs": [
    {
     "data": {
      "text/html": [
       "<div>\n",
       "<style scoped>\n",
       "    .dataframe tbody tr th:only-of-type {\n",
       "        vertical-align: middle;\n",
       "    }\n",
       "\n",
       "    .dataframe tbody tr th {\n",
       "        vertical-align: top;\n",
       "    }\n",
       "\n",
       "    .dataframe thead th {\n",
       "        text-align: right;\n",
       "    }\n",
       "</style>\n",
       "<table border=\"1\" class=\"dataframe\">\n",
       "  <thead>\n",
       "    <tr style=\"text-align: right;\">\n",
       "      <th></th>\n",
       "      <th>song_name</th>\n",
       "      <th>artist_name</th>\n",
       "      <th>played_at</th>\n",
       "      <th>timestamp</th>\n",
       "    </tr>\n",
       "  </thead>\n",
       "  <tbody>\n",
       "    <tr>\n",
       "      <th>0</th>\n",
       "      <td>Still Loving You</td>\n",
       "      <td>Scorpions</td>\n",
       "      <td>2021-08-30T21:38:09.495Z</td>\n",
       "      <td>2021-08-30</td>\n",
       "    </tr>\n",
       "    <tr>\n",
       "      <th>1</th>\n",
       "      <td>Come and See Me (feat. Drake)</td>\n",
       "      <td>PARTYNEXTDOOR</td>\n",
       "      <td>2021-08-30T21:36:31.353Z</td>\n",
       "      <td>2021-08-30</td>\n",
       "    </tr>\n",
       "    <tr>\n",
       "      <th>2</th>\n",
       "      <td>I Wish I Knew How It Would Feel to Be Free</td>\n",
       "      <td>Nina Simone</td>\n",
       "      <td>2021-08-30T21:31:27.995Z</td>\n",
       "      <td>2021-08-30</td>\n",
       "    </tr>\n",
       "    <tr>\n",
       "      <th>3</th>\n",
       "      <td>Baltimore</td>\n",
       "      <td>Nina Simone</td>\n",
       "      <td>2021-08-30T21:28:19.076Z</td>\n",
       "      <td>2021-08-30</td>\n",
       "    </tr>\n",
       "    <tr>\n",
       "      <th>4</th>\n",
       "      <td>I Put A Spell On You</td>\n",
       "      <td>Nina Simone</td>\n",
       "      <td>2021-08-30T21:23:37.150Z</td>\n",
       "      <td>2021-08-30</td>\n",
       "    </tr>\n",
       "  </tbody>\n",
       "</table>\n",
       "</div>"
      ],
      "text/plain": [
       "                                    song_name    artist_name  \\\n",
       "0                            Still Loving You      Scorpions   \n",
       "1               Come and See Me (feat. Drake)  PARTYNEXTDOOR   \n",
       "2  I Wish I Knew How It Would Feel to Be Free    Nina Simone   \n",
       "3                                   Baltimore    Nina Simone   \n",
       "4                        I Put A Spell On You    Nina Simone   \n",
       "\n",
       "                  played_at   timestamp  \n",
       "0  2021-08-30T21:38:09.495Z  2021-08-30  \n",
       "1  2021-08-30T21:36:31.353Z  2021-08-30  \n",
       "2  2021-08-30T21:31:27.995Z  2021-08-30  \n",
       "3  2021-08-30T21:28:19.076Z  2021-08-30  \n",
       "4  2021-08-30T21:23:37.150Z  2021-08-30  "
      ]
     },
     "execution_count": 48,
     "metadata": {},
     "output_type": "execute_result"
    }
   ],
   "source": [
    "song_dict = {\n",
    "    \"song_name\" : song_names,\n",
    "    \"artist_name\": artist_names,\n",
    "    \"played_at\" : played_at_list,\n",
    "    \"timestamp\" : timestamps\n",
    "}\n",
    "song_df = pd.DataFrame(song_dict, columns = [\"song_name\", \"artist_name\", \"played_at\", \"timestamp\"])\n",
    "song_df"
   ]
  },
  {
   "cell_type": "code",
   "execution_count": null,
   "id": "4c460f11",
   "metadata": {},
   "outputs": [],
   "source": []
  }
 ],
 "metadata": {
  "kernelspec": {
   "display_name": "Python 3 (ipykernel)",
   "language": "python",
   "name": "python3"
  },
  "language_info": {
   "codemirror_mode": {
    "name": "ipython",
    "version": 3
   },
   "file_extension": ".py",
   "mimetype": "text/x-python",
   "name": "python",
   "nbconvert_exporter": "python",
   "pygments_lexer": "ipython3",
   "version": "3.7.0"
  }
 },
 "nbformat": 4,
 "nbformat_minor": 5
}
