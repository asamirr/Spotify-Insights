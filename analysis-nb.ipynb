{
 "cells": [
  {
   "cell_type": "code",
   "execution_count": 2,
   "id": "898ba7d0",
   "metadata": {},
   "outputs": [],
   "source": [
    "import pandas as pd\n",
    "from matplotlib import pyplot as plt"
   ]
  },
  {
   "cell_type": "code",
   "execution_count": 3,
   "id": "27562659",
   "metadata": {},
   "outputs": [
    {
     "data": {
      "text/html": [
       "<div>\n",
       "<style scoped>\n",
       "    .dataframe tbody tr th:only-of-type {\n",
       "        vertical-align: middle;\n",
       "    }\n",
       "\n",
       "    .dataframe tbody tr th {\n",
       "        vertical-align: top;\n",
       "    }\n",
       "\n",
       "    .dataframe thead th {\n",
       "        text-align: right;\n",
       "    }\n",
       "</style>\n",
       "<table border=\"1\" class=\"dataframe\">\n",
       "  <thead>\n",
       "    <tr style=\"text-align: right;\">\n",
       "      <th></th>\n",
       "      <th>song_name</th>\n",
       "      <th>artist_name</th>\n",
       "      <th>played_at</th>\n",
       "      <th>timestamp</th>\n",
       "    </tr>\n",
       "  </thead>\n",
       "  <tbody>\n",
       "    <tr>\n",
       "      <th>0</th>\n",
       "      <td>I See the Light</td>\n",
       "      <td>Ben E. King</td>\n",
       "      <td>2021-08-28T17:14:33.930Z</td>\n",
       "      <td>2021-08-28</td>\n",
       "    </tr>\n",
       "    <tr>\n",
       "      <th>1</th>\n",
       "      <td>Let Me Live in Your Life</td>\n",
       "      <td>Ben E. King</td>\n",
       "      <td>2021-08-28T17:13:55.877Z</td>\n",
       "      <td>2021-08-28</td>\n",
       "    </tr>\n",
       "    <tr>\n",
       "      <th>2</th>\n",
       "      <td>Stand by Me</td>\n",
       "      <td>Ben E. King</td>\n",
       "      <td>2021-08-28T17:13:33.302Z</td>\n",
       "      <td>2021-08-28</td>\n",
       "    </tr>\n",
       "    <tr>\n",
       "      <th>3</th>\n",
       "      <td>Stand By Me - DJ \"D.O.C.\" Remix</td>\n",
       "      <td>Ben E. King</td>\n",
       "      <td>2021-08-28T17:12:50.194Z</td>\n",
       "      <td>2021-08-28</td>\n",
       "    </tr>\n",
       "    <tr>\n",
       "      <th>4</th>\n",
       "      <td>Seven Nation Army</td>\n",
       "      <td>Scott Rill</td>\n",
       "      <td>2021-08-28T17:12:03.221Z</td>\n",
       "      <td>2021-08-28</td>\n",
       "    </tr>\n",
       "  </tbody>\n",
       "</table>\n",
       "</div>"
      ],
      "text/plain": [
       "                         song_name  artist_name                 played_at  \\\n",
       "0                  I See the Light  Ben E. King  2021-08-28T17:14:33.930Z   \n",
       "1         Let Me Live in Your Life  Ben E. King  2021-08-28T17:13:55.877Z   \n",
       "2                      Stand by Me  Ben E. King  2021-08-28T17:13:33.302Z   \n",
       "3  Stand By Me - DJ \"D.O.C.\" Remix  Ben E. King  2021-08-28T17:12:50.194Z   \n",
       "4                Seven Nation Army   Scott Rill  2021-08-28T17:12:03.221Z   \n",
       "\n",
       "    timestamp  \n",
       "0  2021-08-28  \n",
       "1  2021-08-28  \n",
       "2  2021-08-28  \n",
       "3  2021-08-28  \n",
       "4  2021-08-28  "
      ]
     },
     "execution_count": 3,
     "metadata": {},
     "output_type": "execute_result"
    }
   ],
   "source": [
    "data = pd.read_csv('clean_data.csv')\n",
    "data.head()\n"
   ]
  },
  {
   "cell_type": "code",
   "execution_count": 4,
   "id": "31535a72",
   "metadata": {},
   "outputs": [],
   "source": [
    "# barr = data.groupby(['artist_name'])['song_name'].count().sort_values(['song_name'], ascending=False)\n",
    "barr = data.groupby('artist_name').count().sort_values(['song_name'], ascending=False).head(10)"
   ]
  },
  {
   "cell_type": "code",
   "execution_count": 5,
   "id": "18bcdf43",
   "metadata": {},
   "outputs": [
    {
     "data": {
      "text/plain": [
       "<AxesSubplot:title={'center':'Most Played Artists'}, xlabel='Artists', ylabel='Number of songs'>"
      ]
     },
     "execution_count": 5,
     "metadata": {},
     "output_type": "execute_result"
    },
    {
     "data": {
      "image/png": "[encoded data removed]",
      "text/plain": [
       "<Figure size 432x288 with 1 Axes>"
      ]
     },
     "metadata": {
      "needs_background": "light"
     },
     "output_type": "display_data"
    }
   ],
   "source": [
    "barr.plot(kind='bar', title='Most Played Artists', ylabel='Number of songs',\n",
    "         xlabel='Artists')"
   ]
  },
  {
   "cell_type": "code",
   "execution_count": 50,
   "id": "3357ff97",
   "metadata": {
    "scrolled": true
   },
   "outputs": [
    {
     "data": {
      "text/plain": [
       "artist_name\n",
       "Green Day                9\n",
       "Johnny Cash              8\n",
       "Eminem                   7\n",
       "Red Hot Chili Peppers    7\n",
       "Nina Simone              5\n",
       "Ben E. King              4\n",
       "Ella Fitzgerald          4\n",
       "AC/DC                    3\n",
       "Bob Dylan                3\n",
       "Marwan Pablo             2\n",
       "Name: song_name, dtype: int64"
      ]
     },
     "execution_count": 50,
     "metadata": {},
     "output_type": "execute_result"
    }
   ],
   "source": [
    "dashFrame = data.groupby(['artist_name'])['song_name'].count().sort_values(ascending=False).head(10)\n",
    "dashFrame"
   ]
  },
  {
   "cell_type": "markdown",
   "id": "00426bc2",
   "metadata": {},
   "source": [
    "-------------------------------------------------------------------------\n",
    "Loading a MongoDB Collection directly here using Pandas and Python Lists\n",
    "------"
   ]
  },
  {
   "cell_type": "code",
   "execution_count": 110,
   "id": "02e94c3b",
   "metadata": {},
   "outputs": [
    {
     "data": {
      "text/plain": [
       "['admin', 'config', 'local', 'raw_spotify', 'raw_spotify_test']"
      ]
     },
     "execution_count": 110,
     "metadata": {},
     "output_type": "execute_result"
    }
   ],
   "source": [
    "from pymongo import MongoClient\n",
    "import pandas as pd\n",
    "from bson.json_util import dumps\n",
    "from bson.json_util import loads\n",
    "import json\n",
    "\n",
    "client = MongoClient('mongodb://localhost:27017/')\n",
    "client.list_database_names()\n"
   ]
  },
  {
   "cell_type": "code",
   "execution_count": 111,
   "id": "111e15a9",
   "metadata": {},
   "outputs": [
    {
     "data": {
      "text/plain": [
       "['raw_30-08-2021', 'raw_12-09-2021', 'raw_11-09-2021', 'raw', 'raw_29-08-2021']"
      ]
     },
     "execution_count": 111,
     "metadata": {},
     "output_type": "execute_result"
    }
   ],
   "source": [
    "db = client['raw_spotify']\n",
    "db.list_collection_names()"
   ]
  },
  {
   "cell_type": "code",
   "execution_count": 112,
   "id": "7cf23646",
   "metadata": {
    "scrolled": true
   },
   "outputs": [],
   "source": [
    "aug_coll = db[\"raw_30-08-2021\"]"
   ]
  },
  {
   "cell_type": "code",
   "execution_count": 113,
   "id": "4efa92a1",
   "metadata": {},
   "outputs": [
    {
     "name": "stdout",
     "output_type": "stream",
     "text": [
      "The memory_profiler extension is already loaded. To reload it, use:\n",
      "  %reload_ext memory_profiler\n"
     ]
    }
   ],
   "source": [
    "%load_ext memory_profiler"
   ]
  },
  {
   "cell_type": "code",
   "execution_count": 117,
   "id": "415ca1d6",
   "metadata": {},
   "outputs": [
    {
     "data": {
      "text/html": [
       "<div>\n",
       "<style scoped>\n",
       "    .dataframe tbody tr th:only-of-type {\n",
       "        vertical-align: middle;\n",
       "    }\n",
       "\n",
       "    .dataframe tbody tr th {\n",
       "        vertical-align: top;\n",
       "    }\n",
       "\n",
       "    .dataframe thead th {\n",
       "        text-align: right;\n",
       "    }\n",
       "</style>\n",
       "<table border=\"1\" class=\"dataframe\">\n",
       "  <thead>\n",
       "    <tr style=\"text-align: right;\">\n",
       "      <th></th>\n",
       "      <th>items</th>\n",
       "    </tr>\n",
       "  </thead>\n",
       "  <tbody>\n",
       "    <tr>\n",
       "      <th>0</th>\n",
       "      <td>{'track': {'album': {'album_type': 'compilatio...</td>\n",
       "    </tr>\n",
       "    <tr>\n",
       "      <th>1</th>\n",
       "      <td>{'track': {'album': {'album_type': 'album', 'a...</td>\n",
       "    </tr>\n",
       "    <tr>\n",
       "      <th>2</th>\n",
       "      <td>{'track': {'album': {'album_type': 'album', 'a...</td>\n",
       "    </tr>\n",
       "    <tr>\n",
       "      <th>3</th>\n",
       "      <td>{'track': {'album': {'album_type': 'album', 'a...</td>\n",
       "    </tr>\n",
       "    <tr>\n",
       "      <th>4</th>\n",
       "      <td>{'track': {'album': {'album_type': 'album', 'a...</td>\n",
       "    </tr>\n",
       "  </tbody>\n",
       "</table>\n",
       "</div>"
      ],
      "text/plain": [
       "                                               items\n",
       "0  {'track': {'album': {'album_type': 'compilatio...\n",
       "1  {'track': {'album': {'album_type': 'album', 'a...\n",
       "2  {'track': {'album': {'album_type': 'album', 'a...\n",
       "3  {'track': {'album': {'album_type': 'album', 'a...\n",
       "4  {'track': {'album': {'album_type': 'album', 'a..."
      ]
     },
     "execution_count": 117,
     "metadata": {},
     "output_type": "execute_result"
    }
   ],
   "source": [
    "# %%time\n",
    "cursor = list(aug_coll.find())\n",
    "\n",
    "df = pd.DataFrame(cursor)\n",
    "df= df.drop(['_id', 'next', 'cursors', 'limit', 'href'], axis=1)\n",
    "\n",
    "df = df.explode('items', ignore_index=True)\n",
    "\n",
    "df.head()"
   ]
  },
  {
   "cell_type": "code",
   "execution_count": 115,
   "id": "c800ea9b",
   "metadata": {},
   "outputs": [
    {
     "name": "stdout",
     "output_type": "stream",
     "text": [
      "['Still Loving You', 'Come and See Me (feat. Drake)', 'I Wish I Knew How It Would Feel to Be Free', 'Baltimore', 'I Put A Spell On You', 'My Baby Just Cares for Me - 2013 Remastered Version', 'Feeling Good', 'Dark Necessities', 'Give It Away', 'By the Way', 'Dani California', 'Scar Tissue', 'Otherside', 'Sindbad', 'Atary (Full Version)', 'شيراتون', 'واحد وعشرين', 'Msh Fair', 'Tesla', 'Mkahrab']\n",
      "---------\n",
      "['Scorpions', 'PARTYNEXTDOOR', 'Nina Simone', 'Nina Simone', 'Nina Simone', 'Nina Simone', 'Nina Simone', 'Red Hot Chili Peppers', 'Red Hot Chili Peppers', 'Red Hot Chili Peppers', 'Red Hot Chili Peppers', 'Red Hot Chili Peppers', 'Red Hot Chili Peppers', 'Marwan Pablo', 'Marwan Pablo', 'Marwan Moussa', 'Wegz', 'Wegz', 'Marwan Moussa', 'Marwan Moussa']\n",
      "---------\n",
      "['2021-08-30T21:38:09.495Z', '2021-08-30T21:36:31.353Z', '2021-08-30T21:31:27.995Z', '2021-08-30T21:28:19.076Z', '2021-08-30T21:23:37.150Z', '2021-08-30T21:23:35.926Z', '2021-08-30T21:22:24.995Z', '2021-08-30T21:17:19.953Z', '2021-08-30T21:17:10.387Z', '2021-08-30T21:16:59.113Z', '2021-08-30T21:12:29.318Z', '2021-08-30T21:07:47.116Z', '2021-08-30T21:04:11.028Z', '2021-08-30T20:44:15.513Z', '2021-08-30T20:42:14.545Z', '2021-08-30T20:37:44.438Z', '2021-08-30T20:33:49.245Z', '2021-08-30T20:29:57.730Z', '2021-08-30T20:29:10.045Z', '2021-08-30T20:22:49.387Z']\n",
      "---------\n",
      "['2021-08-30', '2021-08-30', '2021-08-30', '2021-08-30', '2021-08-30', '2021-08-30', '2021-08-30', '2021-08-30', '2021-08-30', '2021-08-30', '2021-08-30', '2021-08-30', '2021-08-30', '2021-08-30', '2021-08-30', '2021-08-30', '2021-08-30', '2021-08-30', '2021-08-30', '2021-08-30']\n"
     ]
    }
   ],
   "source": [
    "song_names = []\n",
    "artist_names = []\n",
    "played_at_list = []\n",
    "timestamps = []\n",
    "\n",
    "for record in df['items']:\n",
    "    song_names.append(record[\"track\"][\"name\"])\n",
    "    artist_names.append(record[\"track\"][\"album\"][\"artists\"][0][\"name\"])\n",
    "    played_at_list.append(record[\"played_at\"])\n",
    "    timestamps.append(record[\"played_at\"][0:10])\n",
    "    \n",
    "print(song_names)\n",
    "print(\"---------\")\n",
    "print(artist_names)\n",
    "print(\"---------\")\n",
    "print(played_at_list)\n",
    "print(\"---------\")\n",
    "print(timestamps)"
   ]
  },
  {
   "cell_type": "code",
   "execution_count": 102,
   "id": "aede1983",
   "metadata": {},
   "outputs": [
    {
     "data": {
      "text/html": [
       "<div>\n",
       "<style scoped>\n",
       "    .dataframe tbody tr th:only-of-type {\n",
       "        vertical-align: middle;\n",
       "    }\n",
       "\n",
       "    .dataframe tbody tr th {\n",
       "        vertical-align: top;\n",
       "    }\n",
       "\n",
       "    .dataframe thead th {\n",
       "        text-align: right;\n",
       "    }\n",
       "</style>\n",
       "<table border=\"1\" class=\"dataframe\">\n",
       "  <thead>\n",
       "    <tr style=\"text-align: right;\">\n",
       "      <th></th>\n",
       "      <th>song_name</th>\n",
       "      <th>artist_name</th>\n",
       "      <th>played_at</th>\n",
       "      <th>timestamp</th>\n",
       "    </tr>\n",
       "  </thead>\n",
       "  <tbody>\n",
       "    <tr>\n",
       "      <th>0</th>\n",
       "      <td>Still Loving You</td>\n",
       "      <td>Scorpions</td>\n",
       "      <td>2021-08-30T21:38:09.495Z</td>\n",
       "      <td>2021-08-30</td>\n",
       "    </tr>\n",
       "    <tr>\n",
       "      <th>1</th>\n",
       "      <td>Come and See Me (feat. Drake)</td>\n",
       "      <td>PARTYNEXTDOOR</td>\n",
       "      <td>2021-08-30T21:36:31.353Z</td>\n",
       "      <td>2021-08-30</td>\n",
       "    </tr>\n",
       "    <tr>\n",
       "      <th>2</th>\n",
       "      <td>I Wish I Knew How It Would Feel to Be Free</td>\n",
       "      <td>Nina Simone</td>\n",
       "      <td>2021-08-30T21:31:27.995Z</td>\n",
       "      <td>2021-08-30</td>\n",
       "    </tr>\n",
       "    <tr>\n",
       "      <th>3</th>\n",
       "      <td>Baltimore</td>\n",
       "      <td>Nina Simone</td>\n",
       "      <td>2021-08-30T21:28:19.076Z</td>\n",
       "      <td>2021-08-30</td>\n",
       "    </tr>\n",
       "    <tr>\n",
       "      <th>4</th>\n",
       "      <td>I Put A Spell On You</td>\n",
       "      <td>Nina Simone</td>\n",
       "      <td>2021-08-30T21:23:37.150Z</td>\n",
       "      <td>2021-08-30</td>\n",
       "    </tr>\n",
       "    <tr>\n",
       "      <th>5</th>\n",
       "      <td>My Baby Just Cares for Me - 2013 Remastered Ve...</td>\n",
       "      <td>Nina Simone</td>\n",
       "      <td>2021-08-30T21:23:35.926Z</td>\n",
       "      <td>2021-08-30</td>\n",
       "    </tr>\n",
       "    <tr>\n",
       "      <th>6</th>\n",
       "      <td>Feeling Good</td>\n",
       "      <td>Nina Simone</td>\n",
       "      <td>2021-08-30T21:22:24.995Z</td>\n",
       "      <td>2021-08-30</td>\n",
       "    </tr>\n",
       "    <tr>\n",
       "      <th>7</th>\n",
       "      <td>Dark Necessities</td>\n",
       "      <td>Red Hot Chili Peppers</td>\n",
       "      <td>2021-08-30T21:17:19.953Z</td>\n",
       "      <td>2021-08-30</td>\n",
       "    </tr>\n",
       "    <tr>\n",
       "      <th>8</th>\n",
       "      <td>Give It Away</td>\n",
       "      <td>Red Hot Chili Peppers</td>\n",
       "      <td>2021-08-30T21:17:10.387Z</td>\n",
       "      <td>2021-08-30</td>\n",
       "    </tr>\n",
       "    <tr>\n",
       "      <th>9</th>\n",
       "      <td>By the Way</td>\n",
       "      <td>Red Hot Chili Peppers</td>\n",
       "      <td>2021-08-30T21:16:59.113Z</td>\n",
       "      <td>2021-08-30</td>\n",
       "    </tr>\n",
       "    <tr>\n",
       "      <th>10</th>\n",
       "      <td>Dani California</td>\n",
       "      <td>Red Hot Chili Peppers</td>\n",
       "      <td>2021-08-30T21:12:29.318Z</td>\n",
       "      <td>2021-08-30</td>\n",
       "    </tr>\n",
       "    <tr>\n",
       "      <th>11</th>\n",
       "      <td>Scar Tissue</td>\n",
       "      <td>Red Hot Chili Peppers</td>\n",
       "      <td>2021-08-30T21:07:47.116Z</td>\n",
       "      <td>2021-08-30</td>\n",
       "    </tr>\n",
       "    <tr>\n",
       "      <th>12</th>\n",
       "      <td>Otherside</td>\n",
       "      <td>Red Hot Chili Peppers</td>\n",
       "      <td>2021-08-30T21:04:11.028Z</td>\n",
       "      <td>2021-08-30</td>\n",
       "    </tr>\n",
       "    <tr>\n",
       "      <th>13</th>\n",
       "      <td>Sindbad</td>\n",
       "      <td>Marwan Pablo</td>\n",
       "      <td>2021-08-30T20:44:15.513Z</td>\n",
       "      <td>2021-08-30</td>\n",
       "    </tr>\n",
       "    <tr>\n",
       "      <th>14</th>\n",
       "      <td>Atary (Full Version)</td>\n",
       "      <td>Marwan Pablo</td>\n",
       "      <td>2021-08-30T20:42:14.545Z</td>\n",
       "      <td>2021-08-30</td>\n",
       "    </tr>\n",
       "    <tr>\n",
       "      <th>15</th>\n",
       "      <td>شيراتون</td>\n",
       "      <td>Marwan Moussa</td>\n",
       "      <td>2021-08-30T20:37:44.438Z</td>\n",
       "      <td>2021-08-30</td>\n",
       "    </tr>\n",
       "    <tr>\n",
       "      <th>16</th>\n",
       "      <td>واحد وعشرين</td>\n",
       "      <td>Wegz</td>\n",
       "      <td>2021-08-30T20:33:49.245Z</td>\n",
       "      <td>2021-08-30</td>\n",
       "    </tr>\n",
       "    <tr>\n",
       "      <th>17</th>\n",
       "      <td>Msh Fair</td>\n",
       "      <td>Wegz</td>\n",
       "      <td>2021-08-30T20:29:57.730Z</td>\n",
       "      <td>2021-08-30</td>\n",
       "    </tr>\n",
       "    <tr>\n",
       "      <th>18</th>\n",
       "      <td>Tesla</td>\n",
       "      <td>Marwan Moussa</td>\n",
       "      <td>2021-08-30T20:29:10.045Z</td>\n",
       "      <td>2021-08-30</td>\n",
       "    </tr>\n",
       "    <tr>\n",
       "      <th>19</th>\n",
       "      <td>Mkahrab</td>\n",
       "      <td>Marwan Moussa</td>\n",
       "      <td>2021-08-30T20:22:49.387Z</td>\n",
       "      <td>2021-08-30</td>\n",
       "    </tr>\n",
       "  </tbody>\n",
       "</table>\n",
       "</div>"
      ],
      "text/plain": [
       "                                            song_name            artist_name  \\\n",
       "0                                    Still Loving You              Scorpions   \n",
       "1                       Come and See Me (feat. Drake)          PARTYNEXTDOOR   \n",
       "2          I Wish I Knew How It Would Feel to Be Free            Nina Simone   \n",
       "3                                           Baltimore            Nina Simone   \n",
       "4                                I Put A Spell On You            Nina Simone   \n",
       "5   My Baby Just Cares for Me - 2013 Remastered Ve...            Nina Simone   \n",
       "6                                        Feeling Good            Nina Simone   \n",
       "7                                    Dark Necessities  Red Hot Chili Peppers   \n",
       "8                                        Give It Away  Red Hot Chili Peppers   \n",
       "9                                          By the Way  Red Hot Chili Peppers   \n",
       "10                                    Dani California  Red Hot Chili Peppers   \n",
       "11                                        Scar Tissue  Red Hot Chili Peppers   \n",
       "12                                          Otherside  Red Hot Chili Peppers   \n",
       "13                                            Sindbad           Marwan Pablo   \n",
       "14                               Atary (Full Version)           Marwan Pablo   \n",
       "15                                            شيراتون          Marwan Moussa   \n",
       "16                                        واحد وعشرين                   Wegz   \n",
       "17                                           Msh Fair                   Wegz   \n",
       "18                                              Tesla          Marwan Moussa   \n",
       "19                                            Mkahrab          Marwan Moussa   \n",
       "\n",
       "                   played_at   timestamp  \n",
       "0   2021-08-30T21:38:09.495Z  2021-08-30  \n",
       "1   2021-08-30T21:36:31.353Z  2021-08-30  \n",
       "2   2021-08-30T21:31:27.995Z  2021-08-30  \n",
       "3   2021-08-30T21:28:19.076Z  2021-08-30  \n",
       "4   2021-08-30T21:23:37.150Z  2021-08-30  \n",
       "5   2021-08-30T21:23:35.926Z  2021-08-30  \n",
       "6   2021-08-30T21:22:24.995Z  2021-08-30  \n",
       "7   2021-08-30T21:17:19.953Z  2021-08-30  \n",
       "8   2021-08-30T21:17:10.387Z  2021-08-30  \n",
       "9   2021-08-30T21:16:59.113Z  2021-08-30  \n",
       "10  2021-08-30T21:12:29.318Z  2021-08-30  \n",
       "11  2021-08-30T21:07:47.116Z  2021-08-30  \n",
       "12  2021-08-30T21:04:11.028Z  2021-08-30  \n",
       "13  2021-08-30T20:44:15.513Z  2021-08-30  \n",
       "14  2021-08-30T20:42:14.545Z  2021-08-30  \n",
       "15  2021-08-30T20:37:44.438Z  2021-08-30  \n",
       "16  2021-08-30T20:33:49.245Z  2021-08-30  \n",
       "17  2021-08-30T20:29:57.730Z  2021-08-30  \n",
       "18  2021-08-30T20:29:10.045Z  2021-08-30  \n",
       "19  2021-08-30T20:22:49.387Z  2021-08-30  "
      ]
     },
     "execution_count": 102,
     "metadata": {},
     "output_type": "execute_result"
    }
   ],
   "source": [
    "song_dict = {\n",
    "    \"song_name\" : song_names,\n",
    "    \"artist_name\": artist_names,\n",
    "    \"played_at\" : played_at_list,\n",
    "    \"timestamp\" : timestamps\n",
    "}\n",
    "song_df = pd.DataFrame(song_dict, columns = [\"song_name\", \"artist_name\", \"played_at\", \"timestamp\"])\n",
    "song_df"
   ]
  },
  {
   "cell_type": "code",
   "execution_count": null,
   "id": "98be27dc",
   "metadata": {},
   "outputs": [],
   "source": []
  }
 ],
 "metadata": {
  "kernelspec": {
   "display_name": "Python 3 (ipykernel)",
   "language": "python",
   "name": "python3"
  },
  "language_info": {
   "codemirror_mode": {
    "name": "ipython",
    "version": 3
   },
   "file_extension": ".py",
   "mimetype": "text/x-python",
   "name": "python",
   "nbconvert_exporter": "python",
   "pygments_lexer": "ipython3",
   "version": "3.7.0"
  }
 },
 "nbformat": 4,
 "nbformat_minor": 5
}
