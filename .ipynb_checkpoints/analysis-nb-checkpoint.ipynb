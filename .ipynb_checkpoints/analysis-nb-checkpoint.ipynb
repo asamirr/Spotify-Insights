{
 "cells": [
  {
   "cell_type": "code",
   "execution_count": 5,
   "id": "898ba7d0",
   "metadata": {},
   "outputs": [],
   "source": [
    "import pandas as pd\n",
    "from matplotlib import pyplot as plt"
   ]
  },
  {
   "cell_type": "code",
   "execution_count": null,
   "id": "150f21c8",
   "metadata": {},
   "outputs": [],
   "source": []
  },
  {
   "cell_type": "code",
   "execution_count": 6,
   "id": "27562659",
   "metadata": {},
   "outputs": [
    {
     "data": {
      "text/html": [
       "<div>\n",
       "<style scoped>\n",
       "    .dataframe tbody tr th:only-of-type {\n",
       "        vertical-align: middle;\n",
       "    }\n",
       "\n",
       "    .dataframe tbody tr th {\n",
       "        vertical-align: top;\n",
       "    }\n",
       "\n",
       "    .dataframe thead th {\n",
       "        text-align: right;\n",
       "    }\n",
       "</style>\n",
       "<table border=\"1\" class=\"dataframe\">\n",
       "  <thead>\n",
       "    <tr style=\"text-align: right;\">\n",
       "      <th></th>\n",
       "      <th>song_name</th>\n",
       "      <th>artist_name</th>\n",
       "      <th>played_at</th>\n",
       "      <th>timestamp</th>\n",
       "    </tr>\n",
       "  </thead>\n",
       "  <tbody>\n",
       "    <tr>\n",
       "      <th>0</th>\n",
       "      <td>I See the Light</td>\n",
       "      <td>Ben E. King</td>\n",
       "      <td>2021-08-28T17:14:33.930Z</td>\n",
       "      <td>2021-08-28</td>\n",
       "    </tr>\n",
       "    <tr>\n",
       "      <th>1</th>\n",
       "      <td>Let Me Live in Your Life</td>\n",
       "      <td>Ben E. King</td>\n",
       "      <td>2021-08-28T17:13:55.877Z</td>\n",
       "      <td>2021-08-28</td>\n",
       "    </tr>\n",
       "    <tr>\n",
       "      <th>2</th>\n",
       "      <td>Stand by Me</td>\n",
       "      <td>Ben E. King</td>\n",
       "      <td>2021-08-28T17:13:33.302Z</td>\n",
       "      <td>2021-08-28</td>\n",
       "    </tr>\n",
       "    <tr>\n",
       "      <th>3</th>\n",
       "      <td>Stand By Me - DJ \"D.O.C.\" Remix</td>\n",
       "      <td>Ben King</td>\n",
       "      <td>2021-08-28T17:12:50.194Z</td>\n",
       "      <td>2021-08-28</td>\n",
       "    </tr>\n",
       "    <tr>\n",
       "      <th>4</th>\n",
       "      <td>Seven Nation Army</td>\n",
       "      <td>Scott Rill</td>\n",
       "      <td>2021-08-28T17:12:03.221Z</td>\n",
       "      <td>2021-08-28</td>\n",
       "    </tr>\n",
       "    <tr>\n",
       "      <th>5</th>\n",
       "      <td>Knockin' On Heaven's Door</td>\n",
       "      <td>Bob Dylan</td>\n",
       "      <td>2021-08-28T17:11:56.641Z</td>\n",
       "      <td>2021-08-28</td>\n",
       "    </tr>\n",
       "    <tr>\n",
       "      <th>6</th>\n",
       "      <td>Can't Say No</td>\n",
       "      <td>The Helio Sequence</td>\n",
       "      <td>2021-08-28T17:11:46.727Z</td>\n",
       "      <td>2021-08-28</td>\n",
       "    </tr>\n",
       "    <tr>\n",
       "      <th>7</th>\n",
       "      <td>Soldier</td>\n",
       "      <td>NEFFEX</td>\n",
       "      <td>2021-08-28T14:18:52.131Z</td>\n",
       "      <td>2021-08-28</td>\n",
       "    </tr>\n",
       "    <tr>\n",
       "      <th>8</th>\n",
       "      <td>Smoke On The Water - Remastered 2012</td>\n",
       "      <td>Deep Purple</td>\n",
       "      <td>2021-08-28T14:11:54.096Z</td>\n",
       "      <td>2021-08-28</td>\n",
       "    </tr>\n",
       "    <tr>\n",
       "      <th>9</th>\n",
       "      <td>Bohemian Rhapsody - Remastered 2011</td>\n",
       "      <td>Queen</td>\n",
       "      <td>2021-08-28T14:11:48.968Z</td>\n",
       "      <td>2021-08-28</td>\n",
       "    </tr>\n",
       "  </tbody>\n",
       "</table>\n",
       "</div>"
      ],
      "text/plain": [
       "                              song_name         artist_name  \\\n",
       "0                       I See the Light         Ben E. King   \n",
       "1              Let Me Live in Your Life         Ben E. King   \n",
       "2                           Stand by Me         Ben E. King   \n",
       "3       Stand By Me - DJ \"D.O.C.\" Remix            Ben King   \n",
       "4                     Seven Nation Army          Scott Rill   \n",
       "5             Knockin' On Heaven's Door           Bob Dylan   \n",
       "6                          Can't Say No  The Helio Sequence   \n",
       "7                               Soldier              NEFFEX   \n",
       "8  Smoke On The Water - Remastered 2012         Deep Purple   \n",
       "9   Bohemian Rhapsody - Remastered 2011               Queen   \n",
       "\n",
       "                  played_at   timestamp  \n",
       "0  2021-08-28T17:14:33.930Z  2021-08-28  \n",
       "1  2021-08-28T17:13:55.877Z  2021-08-28  \n",
       "2  2021-08-28T17:13:33.302Z  2021-08-28  \n",
       "3  2021-08-28T17:12:50.194Z  2021-08-28  \n",
       "4  2021-08-28T17:12:03.221Z  2021-08-28  \n",
       "5  2021-08-28T17:11:56.641Z  2021-08-28  \n",
       "6  2021-08-28T17:11:46.727Z  2021-08-28  \n",
       "7  2021-08-28T14:18:52.131Z  2021-08-28  \n",
       "8  2021-08-28T14:11:54.096Z  2021-08-28  \n",
       "9  2021-08-28T14:11:48.968Z  2021-08-28  "
      ]
     },
     "execution_count": 6,
     "metadata": {},
     "output_type": "execute_result"
    }
   ],
   "source": [
    "data = pd.read_csv('clean_data.csv')\n",
    "data.head(10)"
   ]
  },
  {
   "cell_type": "code",
   "execution_count": 7,
   "id": "31535a72",
   "metadata": {},
   "outputs": [],
   "source": [
    "# barr = data.groupby(['artist_name'])['song_name'].count().sort_values(['song_name'], ascending=False)\n",
    "barr = data.groupby('artist_name').count().sort_values(['song_name'], ascending=False).head(10)"
   ]
  },
  {
   "cell_type": "code",
   "execution_count": 8,
   "id": "18bcdf43",
   "metadata": {},
   "outputs": [
    {
     "data": {
      "text/plain": [
       "<AxesSubplot:title={'center':'Most Played Artists'}, xlabel='Artists', ylabel='Number of songs'>"
      ]
     },
     "execution_count": 8,
     "metadata": {},
     "output_type": "execute_result"
    },
    {
     "data": {
      "image/png": "[encoded data removed]",
      "text/plain": [
       "<Figure size 432x288 with 1 Axes>"
      ]
     },
     "metadata": {
      "needs_background": "light"
     },
     "output_type": "display_data"
    }
   ],
   "source": [
    "barr.plot(kind='bar', title='Most Played Artists', ylabel='Number of songs',\n",
    "         xlabel='Artists')"
   ]
  },
  {
   "cell_type": "code",
   "execution_count": 34,
   "id": "3239b303",
   "metadata": {},
   "outputs": [
    {
     "name": "stdout",
     "output_type": "stream",
     "text": [
      "artist_name\n",
      "Green Day                9\n",
      "Johnny Cash              4\n",
      "AC/DC                    3\n",
      "Ben E. King              3\n",
      "Johann Sebastian Bach    2\n",
      "Name: song_name, dtype: int64\n"
     ]
    }
   ],
   "source": [
    "dashFrame = data.groupby(['artist_name'])['song_name'].count().sort_values(ascending=False)\n",
    "\n"
   ]
  }
 ],
 "metadata": {
  "kernelspec": {
   "display_name": "Python 3 (ipykernel)",
   "language": "python",
   "name": "python3"
  },
  "language_info": {
   "codemirror_mode": {
    "name": "ipython",
    "version": 3
   },
   "file_extension": ".py",
   "mimetype": "text/x-python",
   "name": "python",
   "nbconvert_exporter": "python",
   "pygments_lexer": "ipython3",
   "version": "3.7.0"
  }
 },
 "nbformat": 4,
 "nbformat_minor": 5
}
